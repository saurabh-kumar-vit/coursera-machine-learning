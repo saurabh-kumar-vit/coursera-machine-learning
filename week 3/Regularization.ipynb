{
 "cells": [
  {
   "cell_type": "code",
   "execution_count": 8,
   "metadata": {
    "collapsed": true
   },
   "outputs": [],
   "source": [
    "import numpy as np\n",
    "import pylab\n",
    "import matplotlib.pyplot as plt"
   ]
  },
  {
   "cell_type": "code",
   "execution_count": 9,
   "metadata": {
    "collapsed": true
   },
   "outputs": [],
   "source": [
    "class MLR():\n",
    "    def __init__(self):\n",
    "        self.theta = None\n",
    "        \n",
    "        self.history = {\n",
    "            'loss': []\n",
    "        }\n",
    "        \n",
    "    # predict the output using the current parameters\n",
    "    def predict(self, X, expand=True):\n",
    "        if expand:\n",
    "            b = np.ones(X.shape[0])\n",
    "            X = np.c_[b, X]\n",
    "        return np.sum(X * self.theta, axis=1)\n",
    "    \n",
    "    # calculate the loss\n",
    "    def squared_error(self, y_, y, m):\n",
    "        return np.sum(np.square(y_ - y)) / m\n",
    "    \n",
    "    def fit (self, X, y, alpha=0.1, epoch=100):\n",
    "        # get the shape of the data\n",
    "        m, n = X.shape\n",
    "        self.theta = np.zeros((n + 1, ))\n",
    "    \n",
    "        # add an extra feature for bias \n",
    "        b = np.ones(m)\n",
    "        X = np.c_[b, X]\n",
    "        # start the training\n",
    "        for i in xrange(epoch):\n",
    "            # get the predicted value on current parameters\n",
    "            y_ = self.predict(X, False)\n",
    "            # get the loss\n",
    "            loss = self.squared_error(y_, y, m)\n",
    "            print 'epoch =', i, 'loss =', loss\n",
    "            self.history['loss'].append(loss)\n",
    "            \n",
    "            # update the weights\n",
    "            update_theta = np.zeros_like(self.theta)\n",
    "            for j in xrange(n):\n",
    "                update_theta[j] = np.sum(np.multiply((y_ - y), X[:, j])) / m\n",
    "            self.theta -= alpha * update_theta"
   ]
  },
  {
   "cell_type": "code",
   "execution_count": 32,
   "metadata": {
    "collapsed": true
   },
   "outputs": [],
   "source": [
    "X = np.random.randn(100)\n",
    "y = np.random.randn(100)\n",
    "\n",
    "# x = np.linspace(0, 4, 100)\n",
    "# const = np.random.rand(5)\n"
   ]
  },
  {
   "cell_type": "code",
   "execution_count": 31,
   "metadata": {
    "collapsed": false
   },
   "outputs": [
    {
     "data": {
      "image/png": "[encoded data removed]",
      "text/plain": [
       "<matplotlib.figure.Figure at 0x7f18b7f8ff10>"
      ]
     },
     "metadata": {},
     "output_type": "display_data"
    }
   ],
   "source": [
    "pylab.plot(x, y)\n",
    "plt.show()"
   ]
  },
  {
   "cell_type": "code",
   "execution_count": 33,
   "metadata": {
    "collapsed": false
   },
   "outputs": [
    {
     "data": {
      "image/png": "[encoded data removed]",
      "text/plain": [
       "<matplotlib.figure.Figure at 0x7f18b7f504d0>"
      ]
     },
     "metadata": {},
     "output_type": "display_data"
    }
   ],
   "source": [
    "plt.scatter(X, y)\n",
    "plt.show()"
   ]
  },
  {
   "cell_type": "code",
   "execution_count": 6,
   "metadata": {
    "collapsed": false
   },
   "outputs": [
    {
     "data": {
      "text/plain": [
       "0.2157323809"
      ]
     },
     "execution_count": 6,
     "metadata": {},
     "output_type": "execute_result"
    }
   ],
   "source": [
    "(-.46447)**2"
   ]
  },
  {
   "cell_type": "code",
   "execution_count": null,
   "metadata": {
    "collapsed": true
   },
   "outputs": [],
   "source": [
    "11"
   ]
  }
 ],
 "metadata": {
  "kernelspec": {
   "display_name": "Python 2",
   "language": "python",
   "name": "python2"
  },
  "language_info": {
   "codemirror_mode": {
    "name": "ipython",
    "version": 2
   },
   "file_extension": ".py",
   "mimetype": "text/x-python",
   "name": "python",
   "nbconvert_exporter": "python",
   "pygments_lexer": "ipython2",
   "version": "2.7.12+"
  }
 },
 "nbformat": 4,
 "nbformat_minor": 2
}
