{
 "cells": [
  {
   "cell_type": "code",
   "execution_count": 3,
   "metadata": {
    "collapsed": true
   },
   "outputs": [],
   "source": [
    "import numpy as np\n",
    "import matplotlib.pyplot as plt\n",
    "import seaborn as sns"
   ]
  },
  {
   "cell_type": "code",
   "execution_count": 4,
   "metadata": {
    "collapsed": true
   },
   "outputs": [],
   "source": [
    "class MLR():\n",
    "    def __init__(self):\n",
    "        self.theta = None\n",
    "        \n",
    "        self.history = {\n",
    "            'loss': []\n",
    "        }\n",
    "        \n",
    "    # predict the output using the current parameters\n",
    "    def predict(self, X, expand=True):\n",
    "        if expand:\n",
    "            b = np.ones(X.shape[0])\n",
    "            X = np.c_[b, X]\n",
    "        return np.sum(X * self.theta, axis=1)\n",
    "    \n",
    "    # calculate the loss\n",
    "    def squared_error(self, y_, y, m):\n",
    "        return np.sum(np.square(y_ - y)) / m\n",
    "    \n",
    "    def fit (self, X, y, alpha=0.1, epoch=100):\n",
    "        # get the shape of the data\n",
    "        m, n = X.shape\n",
    "        self.theta = np.zeros((n + 1, ))\n",
    "    \n",
    "        # add an extra feature for bias \n",
    "        b = np.ones(m)\n",
    "        X = np.c_[b, X]\n",
    "        # start the training\n",
    "        for i in xrange(epoch):\n",
    "            # get the predicted value on current parameters\n",
    "            y_ = self.predict(X, False)\n",
    "            # get the loss\n",
    "            loss = self.squared_error(y_, y, m)\n",
    "            self.history['loss'].append(loss)\n",
    "            \n",
    "            # update the weights\n",
    "            update_theta = np.zeros_like(self.theta)\n",
    "            for j in xrange(n):\n",
    "                update_theta[j] = np.sum(np.multiply((y_ - y), X[:, j])) / m\n",
    "            self.theta -= alpha * update_theta\n",
    "        print 'loss =', loss\n"
   ]
  },
  {
   "cell_type": "code",
   "execution_count": 5,
   "metadata": {
    "collapsed": false
   },
   "outputs": [],
   "source": [
    "X = np.random.random((100, 5)) \n",
    "y = np.sum(np.random.randint(100, size = (5, )) * X, axis=1)"
   ]
  },
  {
   "cell_type": "code",
   "execution_count": 6,
   "metadata": {
    "collapsed": false
   },
   "outputs": [],
   "source": [
    "clf = MLR()"
   ]
  },
  {
   "cell_type": "code",
   "execution_count": 7,
   "metadata": {
    "collapsed": false,
    "scrolled": true
   },
   "outputs": [
    {
     "name": "stdout",
     "output_type": "stream",
     "text": [
      "loss = 46.6279387547\n"
     ]
    }
   ],
   "source": [
    "clf.fit(X, y, epoch=200)"
   ]
  },
  {
   "cell_type": "code",
   "execution_count": 8,
   "metadata": {
    "collapsed": false
   },
   "outputs": [
    {
     "data": {
      "image/png": "[encoded data removed]",
      "text/plain": [
       "<matplotlib.figure.Figure at 0x7fe245900fd0>"
      ]
     },
     "metadata": {},
     "output_type": "display_data"
    }
   ],
   "source": [
    "loss = clf.history['loss']\n",
    "plt.plot([i for i in xrange(200)], loss)\n",
    "plt.show()"
   ]
  }
 ],
 "metadata": {
  "kernelspec": {
   "display_name": "Python 2",
   "language": "python",
   "name": "python2"
  },
  "language_info": {
   "codemirror_mode": {
    "name": "ipython",
    "version": 2
   },
   "file_extension": ".py",
   "mimetype": "text/x-python",
   "name": "python",
   "nbconvert_exporter": "python",
   "pygments_lexer": "ipython2",
   "version": "2.7.12+"
  }
 },
 "nbformat": 4,
 "nbformat_minor": 2
}
