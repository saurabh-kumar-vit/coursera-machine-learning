{
 "cells": [
  {
   "cell_type": "code",
   "execution_count": 4,
   "metadata": {
    "collapsed": true
   },
   "outputs": [],
   "source": [
    "import numpy as np\n",
    "import matplotlib.pyplot as plt\n",
    "from numpy.linalg import inv\n",
    "import seaborn as sns"
   ]
  },
  {
   "cell_type": "code",
   "execution_count": 18,
   "metadata": {
    "collapsed": true
   },
   "outputs": [],
   "source": [
    "class NormalEquaton():\n",
    "    def __init__(self):\n",
    "        self.theta = None\n",
    "        \n",
    "    def predict(self, X, expand=True):\n",
    "        if expand:\n",
    "            b = np.ones(X.shape[0])\n",
    "            X = np.c_[b, X]\n",
    "        return np.sum(X * self.theta, axis=1)\n",
    "    \n",
    "    def fit(self, X, y):\n",
    "        # get info on matirx\n",
    "        m, n = X.shape\n",
    "        \n",
    "        # expand the cols of X\n",
    "        b = np.ones(m)\n",
    "        X = np.c_[b, X]\n",
    "        \n",
    "        X_t = np.transpose(X)\n",
    "        \n",
    "        A = inv(np.dot(X_t, X))\n",
    "        A2 = np.dot(A, X_t)\n",
    "        \n",
    "        self.theta = np.dot(A2, y)"
   ]
  },
  {
   "cell_type": "code",
   "execution_count": 19,
   "metadata": {
    "collapsed": true
   },
   "outputs": [],
   "source": [
    "X = np.random.random((100, 5)) \n",
    "constants = np.random.randint(100, size = (5, ))\n",
    "bias = np.random.randn(1)[0]\n",
    "y = np.sum(constants * X, axis=1) + bias"
   ]
  },
  {
   "cell_type": "code",
   "execution_count": 20,
   "metadata": {
    "collapsed": false
   },
   "outputs": [],
   "source": [
    "clf = NormalEquaton()"
   ]
  },
  {
   "cell_type": "code",
   "execution_count": 21,
   "metadata": {
    "collapsed": false
   },
   "outputs": [],
   "source": [
    "clf.fit(X, y)"
   ]
  },
  {
   "cell_type": "code",
   "execution_count": 26,
   "metadata": {
    "collapsed": false
   },
   "outputs": [
    {
     "name": "stdout",
     "output_type": "stream",
     "text": [
      "learned weighths = [ -0.25228878  47.          95.          22.          86.          25.        ]\n"
     ]
    }
   ],
   "source": [
    "print 'learned weighths =', clf.theta"
   ]
  },
  {
   "cell_type": "code",
   "execution_count": 28,
   "metadata": {
    "collapsed": false
   },
   "outputs": [
    {
     "name": "stdout",
     "output_type": "stream",
     "text": [
      "actual weights = -0.25228877584 [47 95 22 86 25]\n"
     ]
    }
   ],
   "source": [
    "print 'actual weights =', bias, constants"
   ]
  }
 ],
 "metadata": {
  "kernelspec": {
   "display_name": "Python 2",
   "language": "python",
   "name": "python2"
  },
  "language_info": {
   "codemirror_mode": {
    "name": "ipython",
    "version": 2
   },
   "file_extension": ".py",
   "mimetype": "text/x-python",
   "name": "python",
   "nbconvert_exporter": "python",
   "pygments_lexer": "ipython2",
   "version": "2.7.12+"
  }
 },
 "nbformat": 4,
 "nbformat_minor": 2
}
